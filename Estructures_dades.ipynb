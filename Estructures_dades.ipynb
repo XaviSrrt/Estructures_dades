{
 "cells": [
  {
   "cell_type": "markdown",
   "id": "448177b6",
   "metadata": {},
   "source": [
    "### Tasca M2 T01"
   ]
  },
  {
   "cell_type": "markdown",
   "id": "389a0793",
   "metadata": {},
   "source": [
    "#### Descripció\n",
    "#### Exercicis d'estructures de dades amb Python."
   ]
  },
  {
   "cell_type": "markdown",
   "id": "9fef83b2",
   "metadata": {},
   "source": [
    "- Exercici 1\n",
    "Crea una llista que agrupi els mesos de l’any en trimestres  \n",
    "(1T: gener, febrer i març; 2T: abril, maig, juny...),  \n",
    "és a dir, una llista amb 4 llistes dins."
   ]
  },
  {
   "cell_type": "code",
   "execution_count": 31,
   "id": "d405b07a",
   "metadata": {},
   "outputs": [
    {
     "name": "stdout",
     "output_type": "stream",
     "text": [
      "[['Gener', 'Febrer', 'Març'], ['Abril', 'Maig', 'Juny'], ['Juliol', 'Agost', 'Setembre'], ['Octubre', 'Novembre', 'Decembre']]\n"
     ]
    }
   ],
   "source": [
    "trimestre1=[\"Gener\",\"Febrer\",\"Març\"]\n",
    "trimestre2=[\"Abril\",\"Maig\",\"Juny\"]\n",
    "trimestre3=[\"Juliol\",\"Agost\",\"Setembre\"]\n",
    "trimestre4=[\"Octubre\",\"Novembre\",\"Decembre\"]\n",
    "any=[trimestre1,trimestre2,trimestre3,trimestre4]\n",
    "#any=list((trimestre1,trimestre2,trimestre3,trimestre4))\n",
    "print(any)\n"
   ]
  },
  {
   "cell_type": "markdown",
   "id": "f7f61164",
   "metadata": {},
   "source": [
    "- Exercici 2\n",
    "Crea un codi que et permeti accedir a:\n",
    "\n",
    "El segon mes del primer trimestre.\n",
    "Els mesos del primer trimestre.\n",
    "Setembre i octubre."
   ]
  },
  {
   "cell_type": "code",
   "execution_count": 32,
   "id": "c5a1de10",
   "metadata": {},
   "outputs": [
    {
     "name": "stdout",
     "output_type": "stream",
     "text": [
      "Segon mes del primer trimestre: Febrer\n",
      "Mesos del primer trimestre:  ['Gener', 'Febrer', 'Març']\n",
      "Setembre i octubre:  ['Setembre', 'Octubre']\n"
     ]
    }
   ],
   "source": [
    "segonmes=any[0][1]\n",
    "print(\"Segon mes del primer trimestre:\",segonmes)\n",
    "primertrimestre=any[0]\n",
    "print(\"Mesos del primer trimestre: \",primertrimestre)\n",
    "#setembre i octubre\n",
    "subllista=[any[2][2],any[3][0]]\n",
    "print(\"Setembre i octubre: \",subllista)"
   ]
  },
  {
   "cell_type": "markdown",
   "id": "c312d28a",
   "metadata": {},
   "source": [
    "- Exercici 3\n",
    "Crea una llista amb nombres desordenats i respon a les següents preguntes:\n",
    "\n",
    "Quants números hi ha?\n",
    "Quantes vegades apareix el número 3.\n",
    "Quantes vegades apareixen els nombres 3 i 4?\n",
    "Quin és el número més gran?\n",
    "Quins són els 3 números més petits?\n",
    "Quin és el rang d’aquesta llista?"
   ]
  },
  {
   "cell_type": "code",
   "execution_count": 53,
   "id": "e7964c16",
   "metadata": {},
   "outputs": [
    {
     "name": "stdout",
     "output_type": "stream",
     "text": [
      "La llista té 26 números\n",
      "El numero 2 apareix 2 vegades\n",
      "Els numeros 3 i 4 apareixen 2 i 5 vegades respectivament\n",
      "El valor màxim de la llista es 342\n",
      "Els valors minims de la llista son [1, 2, 3]\n",
      "El rang de la llista es 341\n"
     ]
    }
   ],
   "source": [
    "llistanumeros=[4,7,2,9,6,4,8,3,5,1,4,7,90,5,4,32,65,7,4,3,54,7,342,78,5,5]\n",
    "#Quants numeros hi ha\n",
    "totalnumeros=len(llistanumeros)\n",
    "print(\"La llista té\",totalnumeros,\"números\")\n",
    "#Quantes vegades hi és el número 3\n",
    "aparicions3=llistanumeros.count(3)\n",
    "print(\"El numero 2 apareix\",aparicions3,\"vegades\")\n",
    "#Quantes vegades hi és el número 3 i el numero 4\n",
    "aparicions4=llistanumeros.count(4)\n",
    "print(\"Els numeros 3 i 4 apareixen\",aparicions3,\"i\",aparicions4,\"vegades respectivament\")\n",
    "#quin es el número mes gran\n",
    "#fem una copia de la llista per no alterra la llista original\n",
    "llistanumerosordenada=llistanumeros.copy()\n",
    "llistanumerosordenada.sort()\n",
    "#valor maxim: l'ultim de la llista\n",
    "#m=max(llistanumeros)\n",
    "maxim=llistanumerosordenada[-1]\n",
    "print(\"El valor màxim de la llista es\",maxim)\n",
    "#El 3 numeros mes petits estan al començament de la llista\n",
    "llistaminims=llistanumerosordenada[0:3]\n",
    "print(\"Els valors minims de la llista son\",llistaminims)\n",
    "#rang de la llista = diferencia entre els valors màxim i mínim\n",
    "minim=llistanumerosordenada[0]\n",
    "rang=maxim-minim\n",
    "print(\"El rang de la llista es\",rang)\n"
   ]
  },
  {
   "cell_type": "markdown",
   "id": "b65db3d2",
   "metadata": {},
   "source": [
    "- Exercici 4\n",
    "Crea un diccionari de la següent forma i respon a les preguntes:\n",
    "\n",
    "compra = { \"Pomes\" : {\"Qty\": 5, \"€\": 0.42}, \"Peres\" : {\"Qty\": 3, \"€\": 0.66} }  \n",
    "Afegeix alguna fruita més  \n",
    "Quant han costat les peres en total?  \n",
    "Quantes fruites hem comprat en total?  \n",
    "Quina és la fruita més cara?\n"
   ]
  },
  {
   "cell_type": "code",
   "execution_count": 29,
   "id": "7f192db5",
   "metadata": {},
   "outputs": [
    {
     "name": "stdout",
     "output_type": "stream",
     "text": [
      "Lista original\n",
      "{'Pomes': {'Qty': 5, '€': 0.42}, 'Peres': {'Qty': 3, '€': 0.66}}\n",
      "Llista ampliada\n",
      "{'Pomes': {'Qty': 5, '€': 0.42}, 'Peres': {'Qty': 3, '€': 0.66}, 'Taronges': {'Qty': 4, '€': 0.89}, 'Platans': {'Qty': 2, '€': 0.99}}\n",
      "Les peres ha costat 1.98\n",
      "Hem comprat 4 fruites diferents\n",
      "la fruita mes cara es Platans\n"
     ]
    }
   ],
   "source": [
    "compra = { \"Pomes\" : {\"Qty\": 5, \"€\": 0.42}, \"Peres\" : {\"Qty\": 3, \"€\": 0.66} }\n",
    "print(\"Lista original\")\n",
    "print(compra)\n",
    "#Afegim taronges\n",
    "compra[\"Taronges\"]={\"Qty\":4,\"€\":0.89}\n",
    "#Afegim platans\n",
    "compra.update({\"Platans\":{\"Qty\":2,\"€\":0.99}})\n",
    "print(\"Llista ampliada\")\n",
    "print(compra)\n",
    "#cost de les peres\n",
    "costperes=compra[\"Peres\"][\"Qty\"]*compra[\"Peres\"][\"€\"]\n",
    "print(\"Les peres ha costat\",costperes)\n",
    "#Quantes fruites hem comprat = Longitud de la lista de fruites\n",
    "nfruites=len(compra.keys())\n",
    "print(\"Hem comprat\",nfruites,\"fruites diferents\")\n",
    "#Quina es la fruita mes cara\n",
    "#recorrem el diccionari, enmagatzemant la fruita i el preu si es superior a l'actual\n",
    "preu_ref=0\n",
    "fruitamescara=\"\"\n",
    "for x in compra:\n",
    "    if compra[x][\"€\"]>preu_ref:\n",
    "        preu_ref=compra[x][\"€\"]\n",
    "        fruitamescara=x\n",
    "print(\"la fruita mes cara es\" ,fruitamescara)\n",
    "\n"
   ]
  },
  {
   "cell_type": "code",
   "execution_count": null,
   "id": "21b07592",
   "metadata": {},
   "outputs": [],
   "source": []
  }
 ],
 "metadata": {
  "kernelspec": {
   "display_name": "Python 3 (ipykernel)",
   "language": "python",
   "name": "python3"
  },
  "language_info": {
   "codemirror_mode": {
    "name": "ipython",
    "version": 3
   },
   "file_extension": ".py",
   "mimetype": "text/x-python",
   "name": "python",
   "nbconvert_exporter": "python",
   "pygments_lexer": "ipython3",
   "version": "3.9.7"
  }
 },
 "nbformat": 4,
 "nbformat_minor": 5
}
